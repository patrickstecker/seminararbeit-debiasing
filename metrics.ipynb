{
 "cells": [
  {
   "cell_type": "markdown",
   "metadata": {},
   "source": [
    "# Metrics\n",
    "Diese Datei enthält Metriken und Hilfsfunktionen. Für Testzwecke der Hilfsfunktionen wird pymongo importiert und eine Verbindung zu einer MongoDB Instanz hergestellt.\n"
   ]
  },
  {
   "cell_type": "code",
   "execution_count": 1,
   "metadata": {},
   "outputs": [],
   "source": [
    "import pymongo\n",
    "client = pymongo.MongoClient('localhost', 27017)\n",
    "raw = client.compas.compas"
   ]
  },
  {
   "cell_type": "markdown",
   "metadata": {},
   "source": [
    "### Metrik analyseFrequency(db, pa)\n",
    "Die Metrik analyseFrequency berechnet für alle Kategorien eines geschützten Attributs die Häufigkeit im Datensatz. Folgende Parameter werden benötigt:\n",
    "\n",
    "    db: Die MongoDB collection in der der Datensatz liegt\n",
    "    pa: Der Name des geschützten Attributs\n",
    "\n",
    "Die Rückgabe der Funktion erfolgt in dem Format einer Liste von Tupeln. Jeder Tupel enthält die Information über den Namen der Kategorie und den Anteil der Kategorie im Datensatz.  \n",
    "Beispiel einer Rückgabe:\n",
    "\n",
    "    [('woman', 24000), ('man', 40000)]"
   ]
  },
  {
   "cell_type": "code",
   "execution_count": 2,
   "metadata": {},
   "outputs": [],
   "source": [
    "def analyseFrequency(db, pa):\n",
    "    categories = db.distinct(pa)\n",
    "    return [\n",
    "            (category, db.count_documents({pa : category})) \n",
    "                for category in categories\n",
    "            ]"
   ]
  },
  {
   "cell_type": "code",
   "execution_count": 3,
   "metadata": {},
   "outputs": [
    {
     "data": {
      "text/plain": [
       "[('Female', 13329), ('Male', 47514)]"
      ]
     },
     "execution_count": 3,
     "metadata": {},
     "output_type": "execute_result"
    }
   ],
   "source": [
    "analyseFrequency(raw, 'Sex_Code_Text')"
   ]
  },
  {
   "cell_type": "markdown",
   "metadata": {},
   "source": [
    "### Metrik analysePercentage(db, pa)\n",
    "Die Metrik analysePercentage berechnet die Verteilung der Kategorien eines geschützten Attributs in einem Datensatz:\n",
    "\n",
    "    db: Die MongoDB collection in der der Datensatz liegt\n",
    "    pa: Der Name des geschützten Attributs\n",
    "\n",
    "Die Rückgabe der Funktion erfolgt in dem Format einer Liste von Tupeln. Jeder Tupel enthält die Information über den Namen der Kategorie und deren Verteilung im Datensatz.  \n",
    "Beispiel einer Rückgabe:\n",
    "\n",
    "    [('woman', 0.4), ('man', 0.6)]"
   ]
  },
  {
   "cell_type": "code",
   "execution_count": 10,
   "metadata": {},
   "outputs": [],
   "source": [
    "def analysePercentage(db, pa):\n",
    "    frequencies = analyseFrequency(db, pa)\n",
    "    length = db.count_documents({})\n",
    "    return [(name, freq / length) for name, freq in frequencies]"
   ]
  },
  {
   "cell_type": "code",
   "execution_count": 11,
   "metadata": {},
   "outputs": [
    {
     "data": {
      "text/plain": [
       "[('Female', 0.21907203786795523), ('Male', 0.7809279621320447)]"
      ]
     },
     "execution_count": 11,
     "metadata": {},
     "output_type": "execute_result"
    }
   ],
   "source": [
    "analysePercentage(raw, 'Sex_Code_Text')"
   ]
  },
  {
   "cell_type": "markdown",
   "metadata": {},
   "source": [
    "### Hilfsfunktion amountDownsample(frequencies)\n",
    "Die Hilfsfunktion amountDownsample berechnet für alle Kategorien eines geschützten Attributs um wie viele Einträge sie reduziert werden soll. Als Input bekommt die Funktion eine Liste von Tupeln, wie diese die in analyseFrequency zurückgegeben wird.\n",
    "\n",
    "    frequencies: Tupel aus Kategoriename des geschützten Attributs und der Häufigkeit im Datensatz\n",
    "\n",
    "Die Rückgabe der Funktion erfolgt in dem Format einer Liste von Tupeln. Jeder Tupel enthält die Information über den Namen der Kategorie und den Anteil um den es reduziert werden soll.  \n",
    "Beispiel einer Rückgabe:\n",
    "\n",
    "    [('man', 16000)]"
   ]
  },
  {
   "cell_type": "code",
   "execution_count": 6,
   "metadata": {},
   "outputs": [],
   "source": [
    "def amountDownsample(frequencies):\n",
    "    if (len(frequencies) < 2):\n",
    "        return []\n",
    "    lowest_frequency_name, lowest_frequency = frequencies[0]\n",
    "    for name, f in frequencies:\n",
    "        if f < lowest_frequency:\n",
    "            lowest_frequency_name, lowest_frequency = name, f\n",
    "    if all(lowest_frequency == freq for _, freq in frequencies):\n",
    "        return []\n",
    "    return [\n",
    "            (name, frequency - lowest_frequency) \n",
    "                for name, frequency in frequencies \n",
    "                if name != lowest_frequency_name\n",
    "           ]"
   ]
  },
  {
   "cell_type": "code",
   "execution_count": 7,
   "metadata": {
    "scrolled": true
   },
   "outputs": [
    {
     "data": {
      "text/plain": [
       "[('Male', 34185)]"
      ]
     },
     "execution_count": 7,
     "metadata": {},
     "output_type": "execute_result"
    }
   ],
   "source": [
    "amountDownsample(analyseFrequency(raw, 'Sex_Code_Text'))"
   ]
  },
  {
   "cell_type": "markdown",
   "metadata": {},
   "source": [
    "### Hilfsfunktion amountUpsample(frequencies)\n",
    "Die Hilfsfunktion amountUpsample berechnet im Gegensatz zu amountDownsample für alle Kategorien eines geschützten Attributs um wie viele Einträge sie erweitert werden soll. Als Input bekommt die Funktion ebenfalls eine Liste von Tupeln, wie diese die in analyseFrequency zurückgegeben wird.\n",
    "\n",
    "    frequencies: Tupel aus Kategoriename des geschützten Attributs und der Häufigkeit im Datensatz\n",
    "\n",
    "Die Rückgabe der Funktion erfolgt, analog zu amountDownsample, in dem Format einer Liste von Tupeln. Jeder Tupel enthält die Information über den Namen der Kategorie und den Anteil um den es reduziert werden soll.\n",
    "Beispiel einer Rückgabe:\n",
    "\n",
    "    [('woman', 16000)]"
   ]
  },
  {
   "cell_type": "code",
   "execution_count": 8,
   "metadata": {},
   "outputs": [],
   "source": [
    "def amountUpsample(frequencies):\n",
    "    if (len(frequencies) < 2):\n",
    "        return []\n",
    "    greatest_frequency_name, greatest_frequency = frequencies[0]\n",
    "    for name, f in frequencies:\n",
    "        if f > greatest_frequency:\n",
    "            greatest_frequency_name, greatest_frequency = name, f\n",
    "    if all(greatest_frequency == freq for _, freq in frequencies):\n",
    "        return []\n",
    "    return [\n",
    "            (name, greatest_frequency - frequency) \n",
    "                for name, frequency in frequencies \n",
    "                if name != greatest_frequency_name\n",
    "           ]"
   ]
  },
  {
   "cell_type": "code",
   "execution_count": 9,
   "metadata": {},
   "outputs": [
    {
     "data": {
      "text/plain": [
       "[('Female', 34185)]"
      ]
     },
     "execution_count": 9,
     "metadata": {},
     "output_type": "execute_result"
    }
   ],
   "source": [
    "amountUpsample(analyseFrequency(raw, 'Sex_Code_Text'))"
   ]
  }
 ],
 "metadata": {
  "kernelspec": {
   "display_name": "Python 3",
   "language": "python",
   "name": "python3"
  },
  "language_info": {
   "codemirror_mode": {
    "name": "ipython",
    "version": 3
   },
   "file_extension": ".py",
   "mimetype": "text/x-python",
   "name": "python",
   "nbconvert_exporter": "python",
   "pygments_lexer": "ipython3",
   "version": "3.8.3"
  }
 },
 "nbformat": 4,
 "nbformat_minor": 4
}
