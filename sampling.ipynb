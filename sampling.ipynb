{
 "cells": [
  {
   "cell_type": "markdown",
   "metadata": {},
   "source": [
    "# Sampling Algorithmen\n",
    "In diesem Jupyter Notebook befindet sich die Implementierung von einem Downsampling und einem Upsampling Algorithmus. Hilfsfunktionen und Metriken befinden sich in dem Notebook metrics.ipynb."
   ]
  },
  {
   "cell_type": "code",
   "execution_count": 1,
   "metadata": {},
   "outputs": [],
   "source": [
    "import pymongo\n",
    "import random\n",
    "%run metrics.ipynb"
   ]
  },
  {
   "cell_type": "markdown",
   "metadata": {},
   "source": [
    "### Downsampling\n",
    "Die Methode downsample(collection, protected_attribute) wendet auf einen Datensatz einen Downsampling Algorithmus an. Der Datensatz ist hierbei in Form einer MongoDB Collection zu übergeben. Folgenden Eingabeparameter werden benötigt:\n",
    "\n",
    "    collection: pymongo Collection die den Datensatz enthält, auf den Downsampling angewendet wird\n",
    "    protected_attribute: der Name des geschützten Attributes, nach dem Downsampling angewendet werden soll\n",
    "\n",
    "Der Algorithmus reduziert die Einträge der bevorzugten Kategorie(n), bis alle Kategorien gleich häufig in dem Datensatz vorhanden sind. Welche Dokumente der MongoDB Collection gelöscht werden, wird hierbei zufällig ausgewählt."
   ]
  },
  {
   "cell_type": "code",
   "execution_count": 2,
   "metadata": {},
   "outputs": [],
   "source": [
    "def downsample(collection, protected_attribute):\n",
    "    toReduce = amountDownsample(analyseFrequency(collection, protected_attribute))\n",
    "    print('reduce', toReduce)\n",
    "    row_count = collection.count_documents\n",
    "    deleteIds = []\n",
    "    \n",
    "    for t in toReduce:\n",
    "        allIds = []\n",
    "        for obj in raw.find({protected_attribute: t[0]}):\n",
    "            allIds.append(obj[\"_id\"])\n",
    "            \n",
    "        for i in range(0, t[1]):\n",
    "            rn = random.randint(0, len(allIds)-1)\n",
    "            deleteIds.append(allIds[rn])\n",
    "            allIds.remove(allIds[rn])\n",
    "\n",
    "    query = {\"_id\": {\"$in\": deleteIds}}\n",
    "    collection.delete_many(query)"
   ]
  },
  {
   "cell_type": "markdown",
   "metadata": {},
   "source": [
    "### Upsampling\n",
    "Die Methode upsample(collection, protected_attribute) wendet auf einen Datensatz einen Upsampling Algorithmus an. Der Datensatz ist hierbei ebenfalls in Form einer MongoDB Collection zu übergeben. Folgenden Eingabeparameter werden benötigt:\n",
    "\n",
    "    collection: pymongo Collection die den Datensatz enthält, auf den Upsampling angewendet wird\n",
    "    protected_attribute: der Name des geschützten Attributes, nach dem Upsampling angewendet werden soll\n",
    "\n",
    "Der Algorithmus vermehrt die Einträge der bevorzugten Kategorie(n), bis alle Kategorien gleich häufig in dem Datensatz vorhanden sind. Welche Dokumente der MongoDB Collection vervielfacht werden wird hierbei zufällig ausgewählt."
   ]
  },
  {
   "cell_type": "code",
   "execution_count": 3,
   "metadata": {},
   "outputs": [],
   "source": [
    "def upsample(collection, protected_attribute):\n",
    "    toInc = amountUpsample(analyseFrequency(collection, protected_attribute))\n",
    "    print('Increase:', toInc)\n",
    "    row_count = collection.count_documents\n",
    "    \n",
    "    for t in toInc:\n",
    "        allIds = []\n",
    "        for obj in raw.find({protected_attribute: t[0]}):\n",
    "            allIds.append(obj[\"_id\"])\n",
    "            \n",
    "        for i in range(0, t[1]):\n",
    "            rn = random.randint(0, len(allIds)-1)\n",
    "            copy = collection.find_one({\"_id\" : allIds[rn]})\n",
    "            del copy[\"_id\"]\n",
    "            collection.insert_one(copy)"
   ]
  },
  {
   "cell_type": "markdown",
   "metadata": {},
   "source": [
    "## Anwendung der Algorithmen\n",
    "Als Beispiel wenden die beiden Algorithmen mit dem compas Datensatz getestet. Der Datensatz ist ebenfalls in dem Git Repository vorhanden. Es wird lokal eine MongoDB Instanz auf dem Port 27017 aufgesetzt.  \n",
    "Das folgende Skript beinhaltet eine setUp() Methode, die eine Datenbank mit einer collection anlegt und anschließend den compas Datensatz in diese Collection lädt. Falls bereits eine collection angelegt wurde wird diese gelöscht."
   ]
  },
  {
   "cell_type": "code",
   "execution_count": 4,
   "metadata": {},
   "outputs": [
    {
     "name": "stdout",
     "output_type": "stream",
     "text": [
      "Resetting MongoDB Collection...\n",
      "CSV successfully loaded into collection!\n"
     ]
    }
   ],
   "source": [
    "import csv\n",
    "import codecs\n",
    "\n",
    "client = pymongo.MongoClient('localhost', 27017)\n",
    "db = client.compas\n",
    "compas = db.compas\n",
    "\n",
    "def load_csv(path):\n",
    "    with codecs.open(path,\"r\", \"utf-8\") as file:\n",
    "        return [row for row in csv.DictReader(file)]\n",
    "\n",
    "def load_and_insert_csv(path, collection):\n",
    "    with codecs.open(path,\"r\", \"utf-8\") as file:\n",
    "        data = [row for row in csv.DictReader(file)]\n",
    "        collection.insert_many(data)\n",
    "        print(\"CSV successfully loaded into collection!\")\n",
    "\n",
    "def setUp():\n",
    "    print(\"Resetting MongoDB Collection...\")\n",
    "    db.drop_collection(\"compas\")\n",
    "    load_and_insert_csv(\"Datensatz/compas-scores-raw.csv\", compas)\n",
    "\n",
    "setUp()"
   ]
  },
  {
   "cell_type": "markdown",
   "metadata": {},
   "source": [
    "### Anwendungsbeispiel von Downsampling\n",
    "Zuerst werden zwei Metriken ausgeführt, die zeigen, wie stark die Verteilung der Kategorien eines Attributs in dem Datensatz vertreten sind. Die erste Metrik zeigt den prozentualen Anteil und die zweite Metrik die genaue Anzahl der Kategorie im Datensatz. Als Beispiel werden die Metriken einmal mit dem Geschlecht und einmal mit der Ethnischen Gruppe ausgeführt.  \n",
    "Die Anwendung der Metriken zeigt, dass Männer öfter in dem Datensatz vertreten sind als Frauen."
   ]
  },
  {
   "cell_type": "code",
   "execution_count": 5,
   "metadata": {},
   "outputs": [
    {
     "name": "stdout",
     "output_type": "stream",
     "text": [
      "Prozentanteil der Einträge nach Geschlecht\n",
      " [('Female', 0.21907203786795523), ('Male', 0.7809279621320447)]\n",
      "\n",
      "\n",
      "Anzahl der Einträge nach Geschlecht\n",
      " [('Female', 13329), ('Male', 47514)]\n",
      "\n",
      "\n",
      "Prozentanteil der Einträge nach Ethnischer Gruppe\n",
      " [('African-Am', 0.0008382229673093043), ('African-American', 0.44406094374044675), ('Arabic', 0.0012326808342783887), ('Asian', 0.005325181204082639), ('Caucasian', 0.3580198215078152), ('Hispanic', 0.14368127804348899), ('Native American', 0.0035994280360928947), ('Oriental', 0.0006409940338247621), ('Other', 0.04260144963266111)]\n",
      "\n",
      "\n",
      "Anzahl der Einträge nach Ethnischer Gruppe\n",
      " [('African-Am', 51), ('African-American', 27018), ('Arabic', 75), ('Asian', 324), ('Caucasian', 21783), ('Hispanic', 8742), ('Native American', 219), ('Oriental', 39), ('Other', 2592)]\n"
     ]
    }
   ],
   "source": [
    "print(\"Prozentanteil der Einträge nach Geschlecht\\n\", analysePercentage(compas, 'Sex_Code_Text'))\n",
    "print(\"\\n\\nAnzahl der Einträge nach Geschlecht\\n\", analyseFrequency(compas, 'Sex_Code_Text'))\n",
    "\n",
    "print(\"\\n\\nProzentanteil der Einträge nach Ethnischer Gruppe\\n\", analysePercentage(compas, 'Ethnic_Code_Text'))\n",
    "print(\"\\n\\nAnzahl der Einträge nach Ethnischer Gruppe\\n\", analyseFrequency(compas, 'Ethnic_Code_Text'))"
   ]
  },
  {
   "cell_type": "markdown",
   "metadata": {},
   "source": [
    "Jetzt wird der Downsampling Algorithmus auf dem Datensatz angewendet. Als Beispiel nehmen wir hierbei das Attribut des Geschlechts als Downsampling Attribut. Der Algorithmus zeigt an, welche Kategorie um wie viele Datensätze er reduziert."
   ]
  },
  {
   "cell_type": "code",
   "execution_count": 6,
   "metadata": {},
   "outputs": [
    {
     "name": "stdout",
     "output_type": "stream",
     "text": [
      "reduce [('Male', 34185)]\n"
     ]
    }
   ],
   "source": [
    "downsample(compas, \"Sex_Code_Text\")"
   ]
  },
  {
   "cell_type": "markdown",
   "metadata": {},
   "source": [
    "Nachdem der Algorithmus angewendet wurde, kann man den Metriken entnehmen, dass beide Geschlechter nun gleich häufig im Datensatz vertreten sind."
   ]
  },
  {
   "cell_type": "code",
   "execution_count": 7,
   "metadata": {},
   "outputs": [
    {
     "name": "stdout",
     "output_type": "stream",
     "text": [
      "Prozentanteil der Einträge nach Geschlecht\n",
      " [('Female', 0.5), ('Male', 0.5)]\n",
      "\n",
      "\n",
      "Anzahl der Einträge nach Geschlecht\n",
      " [('Female', 13329), ('Male', 13329)]\n"
     ]
    }
   ],
   "source": [
    "print(\"Prozentanteil der Einträge nach Geschlecht\\n\", analysePercentage(compas, 'Sex_Code_Text'))\n",
    "print(\"\\n\\nAnzahl der Einträge nach Geschlecht\\n\", analyseFrequency(compas, 'Sex_Code_Text'))"
   ]
  },
  {
   "cell_type": "markdown",
   "metadata": {},
   "source": [
    "### Anwendungsbeispiel von Upsampling\n",
    "Bevor Upsampling auf dem Datensatz angewendet wird, wird zuerst die Collection mit der setUp() Methode zurückgesetzt. Anschließend wird der Upsampling Algorithmus mit dem geschützten Attribut Geschlecht ausgeführt."
   ]
  },
  {
   "cell_type": "code",
   "execution_count": 8,
   "metadata": {},
   "outputs": [
    {
     "name": "stdout",
     "output_type": "stream",
     "text": [
      "Resetting MongoDB Collection...\n",
      "CSV successfully loaded into collection!\n",
      "Increase: [('Female', 34185)]\n"
     ]
    }
   ],
   "source": [
    "setUp()\n",
    "upsample(compas, \"Sex_Code_Text\")"
   ]
  },
  {
   "cell_type": "markdown",
   "metadata": {},
   "source": [
    "Nach Anwendung des Algorithmus deuten die Metriken erneut auf eine gleiche Verteilung des Geschlechts im Datensatz hin. Der Unterschied zum Downsampling ist bei der Anzahl der Einträge zu erkennen."
   ]
  },
  {
   "cell_type": "code",
   "execution_count": 9,
   "metadata": {},
   "outputs": [
    {
     "name": "stdout",
     "output_type": "stream",
     "text": [
      "Prozentanteil der Einträge nach Geschlecht\n",
      " [('Female', 0.5), ('Male', 0.5)]\n",
      "\n",
      "\n",
      "Anzahl der Einträge nach Geschlecht\n",
      " [('Female', 47514), ('Male', 47514)]\n"
     ]
    }
   ],
   "source": [
    "print(\"Prozentanteil der Einträge nach Geschlecht\\n\", analysePercentage(compas, 'Sex_Code_Text'))\n",
    "print(\"\\n\\nAnzahl der Einträge nach Geschlecht\\n\", analyseFrequency(compas, 'Sex_Code_Text'))"
   ]
  },
  {
   "cell_type": "code",
   "execution_count": null,
   "metadata": {},
   "outputs": [],
   "source": []
  }
 ],
 "metadata": {
  "kernelspec": {
   "display_name": "Python 3",
   "language": "python",
   "name": "python3"
  },
  "language_info": {
   "codemirror_mode": {
    "name": "ipython",
    "version": 3
   },
   "file_extension": ".py",
   "mimetype": "text/x-python",
   "name": "python",
   "nbconvert_exporter": "python",
   "pygments_lexer": "ipython3",
   "version": "3.8.3"
  }
 },
 "nbformat": 4,
 "nbformat_minor": 4
}
